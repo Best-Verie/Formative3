{
  "cells": [
    {
      "cell_type": "markdown",
      "metadata": {
        "colab_type": "text",
        "id": "view-in-github"
      },
      "source": [
        "<a href=\"https://colab.research.google.com/github/Best-Verie/Formative3/blob/main/Baysian_probability.ipynb\" target=\"_parent\"><img src=\"https://colab.research.google.com/assets/colab-badge.svg\" alt=\"Open In Colab\"/></a>"
      ]
    },
    {
      "cell_type": "code",
      "execution_count": null,
      "metadata": {
        "id": "dvXcJx3GYvV9"
      },
      "outputs": [],
      "source": [
        "# ----------------------------------------------\n",
        "# Bayesian Tumor Detection - Simplified Example\n",
        "# ----------------------------------------------\n",
        "# Real-World Problem:\n",
        "# A hospital wants to estimate the probability that a patient has a tumor\n",
        "# based on sequential medical evidence (e.g., scan results, family history).\n",
        "# Each new test updates our belief using Bayes’ Theorem.\n",
        "\n",
        "# Bayes' Theorem Formula:\n",
        "# P(Tumor | Evidence) = [P(Evidence | Tumor) * P(Tumor)] / P(Evidence)\n",
        "# Where:\n",
        "# - P(Tumor) is the prior probability (initial belief)\n",
        "# - P(Evidence | Tumor) is the likelihood\n",
        "# - P(Evidence) is the total probability of observing the evidence\n",
        "\n",
        "class BayesianTumorDetector:\n",
        "    def __init__(self):\n",
        "        # Initial belief: 12% chance of tumor\n",
        "        self.prior = 0.12\n",
        "\n",
        "    def bayes_update_belief(self, likelihood_tumor, likelihood_no_tumor, evidence_label):\n",
        "        \"\"\"\n",
        "        Applies Bayes’ Theorem step-by-step and prints calculations:\n",
        "        \n",
        "        P(Tumor | Evidence) = \n",
        "        [P(Evidence | Tumor) * P(Tumor)] / -- the numerator\n",
        "        [P(Evidence | Tumor)*P(Tumor) + P(Evidence | No Tumor)*P(No Tumor)] -- the denominator\n",
        "        \"\"\"\n",
        "      \n",
        "        #The above numerator and denominator explained as per bayes Theorem \n",
        "        #numerator = likelihood * prior\n",
        "        #denominator = (likelihood * prior) + (likelihood_no * (1 - prior))\n",
        "\n",
        "        # Numerator = Likelihood * Prior\n",
        "        numerator = likelihood_tumor * self.prior\n",
        "        print(f\"\\nStep 1: Numerator = P(Evidence | Tumor) × P(Tumor)\")\n",
        "        print(f\"         = {likelihood_tumor:.4f} × {self.prior:.4f} = {numerator:.4f}\")\n",
        "\n",
        "        # Denominator = (Likelihood * Prior) + (Likelihood_no * (1 - Prior))\n",
        "        \n",
        "        # Denominator = Total probability of evidence\n",
        "        denominator = (likelihood_tumor * self.prior) + (likelihood_no_tumor * (1 - self.prior))\n",
        "        print(\"\\nStep 2: Denominator = P(Evidence)\")\n",
        "        print(f\"         = ({likelihood_tumor:.4f} × {self.prior:.4f}) + \"\n",
        "              f\"({likelihood_no_tumor:.4f} × {1 - self.prior:.4f})\")\n",
        "        print(f\"         = {likelihood_tumor * self.prior:.4f} + \"\n",
        "              f\"{likelihood_no_tumor * (1 - self.prior):.4f} = {denominator:.4f}\")\n",
        "        \n",
        "\n",
        "\n",
        "        # Final Posterior = Numerator / Denominator\n",
        "        posterior = numerator / denominator\n",
        "        print(\"\\nStep 3: Posterior = Numerator / Denominator\")\n",
        "        print(f\"         = {numerator:.4f} / {denominator:.4f} = {posterior:.4f}\")\n",
        "        print(f\"\\n Updated Tumor Probability: {posterior:.2f} ({posterior * 100:.1f}%)\")\n",
        "\n",
        "\n",
        "        return posterior\n",
        "\n",
        "    def run_diagnosis(self):\n",
        "        print(\"=== BAYESIAN TUMOR DIAGNOSIS SYSTEM ===\")\n",
        "        print(f\"Initial Risk: P(Tumor) = {self.prior:.2f} (12%)\")\n",
        "\n",
        "        # Evidence 1: Suspicious mass\n",
        "        self.prior = self.bayes_update(\n",
        "            likelihood_tumor=0.85,\n",
        "            likelihood_no_tumor=0.08,\n",
        "            evidence_label=\"Suspicious mass on scan\"\n",
        "        )\n",
        "\n",
        "        # Evidence 2: Family history\n",
        "        self.prior = self.bayes_update(\n",
        "            likelihood_tumor=0.65,\n",
        "            likelihood_no_tumor=0.20,\n",
        "            evidence_label=\"Family history of lung cancer\"\n",
        "        )\n",
        "\n",
        "        # Evidence 3: Irregular shape\n",
        "        self.prior = self.bayes_update(\n",
        "            likelihood_tumor=0.78,\n",
        "            likelihood_no_tumor=0.15,\n",
        "            evidence_label=\"Irregular tumor shape on image\"\n",
        "        )\n",
        "\n",
        "        print(\"\\n🎯 Final Tumor Probability:\", f\"{self.prior:.2f} ({self.prior * 100:.1f}%)\")\n",
        "        print(\"=========================================\")\n",
        "\n",
        "\n"
      ]
    }
  ],
  "metadata": {
    "colab": {
      "authorship_tag": "ABX9TyPMGYIgkwCvif0clV3dWWVR",
      "include_colab_link": true,
      "provenance": []
    },
    "kernelspec": {
      "display_name": "Python 3",
      "name": "python3"
    },
    "language_info": {
      "codemirror_mode": {
        "name": "ipython",
        "version": 3
      },
      "file_extension": ".py",
      "mimetype": "text/x-python",
      "name": "python",
      "nbconvert_exporter": "python",
      "pygments_lexer": "ipython3",
      "version": "3.12.10"
    }
  },
  "nbformat": 4,
  "nbformat_minor": 0
}
