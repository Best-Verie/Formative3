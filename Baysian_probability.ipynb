{
  "cells": [
    {
      "cell_type": "markdown",
      "metadata": {
        "colab_type": "text",
        "id": "view-in-github"
      },
      "source": [
        "<a href=\"https://colab.research.google.com/github/Best-Verie/Formative3/blob/main/Baysian_probability.ipynb\" target=\"_parent\"><img src=\"https://colab.research.google.com/assets/colab-badge.svg\" alt=\"Open In Colab\"/></a>"
      ]
    },
    {
      "cell_type": "code",
      "execution_count": null,
      "metadata": {
        "id": "dvXcJx3GYvV9"
      },
      "outputs": [],
      "source": [
        "# ----------------------------------------------\n",
        "# Bayesian Tumor Detection - Simplified Example\n",
        "# ----------------------------------------------\n",
        "# Real-World Problem:\n",
        "# A hospital wants to estimate the probability that a patient has a tumor\n",
        "# based on sequential medical evidence (e.g., scan results, family history).\n",
        "# Each new test updates our belief using Bayes’ Theorem.\n",
        "\n",
        "# Bayes' Theorem Formula:\n",
        "# P(Tumor | Evidence) = [P(Evidence | Tumor) * P(Tumor)] / P(Evidence)\n",
        "# Where:\n",
        "# - P(Tumor) is the prior probability (initial belief)\n",
        "# - P(Evidence | Tumor) is the likelihood\n",
        "# - P(Evidence) is the total probability of observing the evidence\n",
        "\n",
        "class BayesianTumorDetector:\n",
        "    def __init__(self):\n",
        "        # Initial belief: 12% chance of tumor\n",
        "        self.prior = 0.12\n",
        "\n",
        "\n"
      ]
    }
  ],
  "metadata": {
    "colab": {
      "authorship_tag": "ABX9TyPMGYIgkwCvif0clV3dWWVR",
      "include_colab_link": true,
      "provenance": []
    },
    "kernelspec": {
      "display_name": "Python 3",
      "name": "python3"
    },
    "language_info": {
      "name": "python"
    }
  },
  "nbformat": 4,
  "nbformat_minor": 0
}
