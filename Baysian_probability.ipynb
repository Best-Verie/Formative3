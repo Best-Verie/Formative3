{
  "nbformat": 4,
  "nbformat_minor": 0,
  "metadata": {
    "colab": {
      "provenance": [],
      "authorship_tag": "ABX9TyPMGYIgkwCvif0clV3dWWVR",
      "include_colab_link": true
    },
    "kernelspec": {
      "name": "python3",
      "display_name": "Python 3"
    },
    "language_info": {
      "name": "python"
    }
  },
  "cells": [
    {
      "cell_type": "markdown",
      "metadata": {
        "id": "view-in-github",
        "colab_type": "text"
      },
      "source": [
        "<a href=\"https://colab.research.google.com/github/Best-Verie/Formative3/blob/main/Baysian_probability.ipynb\" target=\"_parent\"><img src=\"https://colab.research.google.com/assets/colab-badge.svg\" alt=\"Open In Colab\"/></a>"
      ]
    },
    {
      "cell_type": "code",
      "execution_count": 5,
      "metadata": {
        "id": "dvXcJx3GYvV9"
      },
      "outputs": [],
      "source": [
        "# ----------------------------------------------\n",
        "# Bayesian Tumor Detection - Simplified Example\n",
        "# ----------------------------------------------\n",
        "# Real-World Problem:\n",
        "# A hospital wants to estimate the probability that a patient has a tumor\n",
        "# based on sequential medical evidence (e.g., scan results, family history).\n",
        "# Each new test updates our belief using Bayes’ Theorem.\n",
        "\n",
        "# Bayes' Theorem Formula:\n",
        "# P(Tumor | Evidence) = [P(Evidence | Tumor) * P(Tumor)] / P(Evidence)\n",
        "# Where:\n",
        "# - P(Tumor) is the prior probability (initial belief)\n",
        "# - P(Evidence | Tumor) is the likelihood\n",
        "# - P(Evidence) is the total probability of observing the evidence\n",
        "\n",
        "\n"
      ]
    }
  ]
}